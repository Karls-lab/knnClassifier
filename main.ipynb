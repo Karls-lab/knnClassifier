{
 "cells": [
  {
   "cell_type": "code",
   "execution_count": 3,
   "metadata": {},
   "outputs": [
    {
     "name": "stdout",
     "output_type": "stream",
     "text": [
      "\n",
      "Located Datasets! Running KNN...\n",
      "\n",
      "Running KNN for heart disease\n",
      "Best parameters: {'k': 13, 'p': 1.5}\n",
      "Mean f1-score with cross Validation: 0.843548491996982\n",
      "Percent correct: 0.8706762760930205\n",
      "f1-score: 0.8679797875200174\n",
      "\n",
      "Running KNN for diabetes\n"
     ]
    }
   ],
   "source": [
    "import knnMain\n",
    "import os\n",
    "import sys\n",
    "\n",
    "diabetesPath = os.path.join('data', 'diabetes_cleaned.csv')\n",
    "clevelandPath = os.path.join('data', 'cleveland_cleaned.csv')\n",
    "\n",
    "# check if cleaned data exists \n",
    "if not os.path.exists(clevelandPath):\n",
    "    print(\"Please run heartDiseasePreprocess.ipynb\")\n",
    "    sys.exit()    \n",
    "\n",
    "if not os.path.exists(diabetesPath):\n",
    "    print(\"Please run diabetesPreprocess.ipynb\")\n",
    "    sys.exit()\n",
    "\n",
    "print(\"\\nLocated Datasets! Running KNN...\")\n",
    "\n",
    "# Now run the knn model for all datasets\n",
    "print(\"\\nRunning KNN for heart disease\")\n",
    "knnMain.runKNN(clevelandPath, targetColumn='num')\n",
    "\n",
    "print(\"\\nRunning KNN for diabetes\")\n",
    "knnMain.runKNN(diabetesPath, targetColumn='Outcome')\n",
    "\n",
    "\n"
   ]
  }
 ],
 "metadata": {
  "kernelspec": {
   "display_name": "Python 3",
   "language": "python",
   "name": "python3"
  },
  "language_info": {
   "codemirror_mode": {
    "name": "ipython",
    "version": 3
   },
   "file_extension": ".py",
   "mimetype": "text/x-python",
   "name": "python",
   "nbconvert_exporter": "python",
   "pygments_lexer": "ipython3",
   "version": "3.11.6"
  }
 },
 "nbformat": 4,
 "nbformat_minor": 2
}
