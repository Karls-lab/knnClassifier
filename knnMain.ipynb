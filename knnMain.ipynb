{
 "cells": [
  {
   "cell_type": "code",
   "execution_count": 52,
   "metadata": {},
   "outputs": [],
   "source": [
    "from sklearn.model_selection import train_test_split \n",
    "import pandas as pd\n",
    "from sklearn.neighbors import KNeighborsClassifier\n",
    "from sklearn.metrics import accuracy_score, precision_score, recall_score, f1_score\n"
   ]
  },
  {
   "cell_type": "code",
   "execution_count": 53,
   "metadata": {},
   "outputs": [
    {
     "name": "stdout",
     "output_type": "stream",
     "text": [
      "k=1: f1=0.7660\n",
      "k=2: f1=0.7660\n",
      "k=3: f1=0.8261\n",
      "k=4: f1=0.8085\n",
      "k=5: f1=0.7826\n",
      "k=6: f1=0.7826\n",
      "k=7: f1=0.7907\n",
      "k=8: f1=0.8000\n",
      "k=9: f1=0.8182\n",
      "k=10: f1=0.8444\n",
      "k=11: f1=0.8444\n",
      "k=12: f1=0.8696\n",
      "k=13: f1=0.8444\n",
      "k=14: f1=0.8750\n",
      "k=15: f1=0.8000\n",
      "k=16: f1=0.8261\n",
      "k=17: f1=0.8000\n",
      "k=18: f1=0.8085\n",
      "k=19: f1=0.7826\n"
     ]
    }
   ],
   "source": [
    "from sklearn.neighbors import KNeighborsClassifier\n",
    "from sklearn.metrics import accuracy_score, precision_score, recall_score, f1_score\n",
    "from sklearn.model_selection import train_test_split\n",
    "\n",
    "# Load data and split into training and testing sets\n",
    "df = pd.read_csv('cleveland_cleaned.csv')\n",
    "X_train, X_test, y_train, y_test = train_test_split(df.drop('num', axis=1), df['num'], test_size=0.2, random_state=42)\n",
    "\n",
    "# kNN with different values of k and distance weighting\n",
    "k_values = [i for i in range(1, 20)]\n",
    "f1ScoreMapping = {}\n",
    "for k in k_values:\n",
    "    knn = KNeighborsClassifier(n_neighbors=k, weights='distance')  # Using distance weighting\n",
    "    knn.fit(X_train, y_train)\n",
    "    y_pred = knn.predict(X_test)\n",
    "    knn_f1 = f1_score(y_test, y_pred)\n",
    "\n",
    "    f1ScoreMapping[k] = knn_f1\n",
    "\n",
    "\n",
    "for k, f1 in f1ScoreMapping.items():\n",
    "    print(f'k={k}: f1={f1:.4f}')"
   ]
  },
  {
   "cell_type": "code",
   "execution_count": 55,
   "metadata": {},
   "outputs": [
    {
     "name": "stdout",
     "output_type": "stream",
     "text": [
      "k=14, p=1.1111111111111112: f1=0.9130\n",
      "k=14, p=1.2222222222222223: f1=0.9130\n",
      "k=15, p=1.2222222222222223: f1=0.9130\n",
      "k=15, p=1.3333333333333333: f1=0.9130\n",
      "k=15, p=1.4444444444444444: f1=0.9130\n"
     ]
    }
   ],
   "source": [
    "import pandas as pd\n",
    "import numpy as np\n",
    "from sklearn.model_selection import train_test_split\n",
    "from sklearn.metrics import f1_score\n",
    "from sklearn.metrics.pairwise import cosine_similarity\n",
    "\n",
    "class KNNClassifier:\n",
    "    def __init__(self, k=3, p=2):\n",
    "        self.k = k\n",
    "        self.p = p\n",
    "\n",
    "    def fit(self, X_train, y_train):\n",
    "        self.X_train = X_train\n",
    "        self.y_train = y_train\n",
    "\n",
    "    def predict(self, X_test):\n",
    "        predictions = []\n",
    "        for i, x in X_test.iterrows():\n",
    "            # Calculate Minkowski Distance between x and all training points\n",
    "            distances = np.sum(np.abs(self.X_train - x) ** self.p, axis=1) ** (1 / self.p)\n",
    "            nearest_indices = np.argsort(distances)[:self.k]\n",
    "            nearest_labels = self.y_train.iloc[nearest_indices]\n",
    "            unique_labels, counts = np.unique(nearest_labels, return_counts=True)\n",
    "            most_common_label = unique_labels[np.argmax(counts)]\n",
    "            predictions.append(most_common_label)\n",
    "\n",
    "\n",
    "        return predictions\n",
    "\n",
    "df = pd.read_csv('cleveland_cleaned.csv')\n",
    "df_train = pd.DataFrame(df)\n",
    "features = list(df_train.columns[:-1])\n",
    "X_train = df_train[features]\n",
    "y_train = df_train['num']\n",
    "# print(X_train)\n",
    "# print(y_train)\n",
    "\n",
    "def trainKNN(X_train, y_train, k, p):\n",
    "    # take 80% of the data as training data and 20% as testing data\n",
    "    X_train, X_test, y_train, y_test = train_test_split(df_train.drop('num', axis=1), df_train['num'], test_size=0.2, random_state=42)\n",
    "\n",
    "    knn = KNNClassifier(k=k, p=p)\n",
    "    knn.fit(X_train, y_train)\n",
    "    predictions = knn.predict(X_test)\n",
    "\n",
    "    f1 = f1_score(y_test, predictions)\n",
    "    return f1\n",
    "\n",
    "scores = {}\n",
    "for k in range(1, 20):\n",
    "    for p in np.linspace(1, 2, 10):\n",
    "        scores[(k, p)] = trainKNN(X_train, y_train, k, p)\n",
    "\n",
    "top_kp = sorted(scores, key=scores.get, reverse=True)[:5]\n",
    "for kp in top_kp:\n",
    "    print(f'k={kp[0]}, p={kp[1]}: f1={scores[kp]:.4f}')"
   ]
  }
 ],
 "metadata": {
  "kernelspec": {
   "display_name": "Python 3",
   "language": "python",
   "name": "python3"
  },
  "language_info": {
   "codemirror_mode": {
    "name": "ipython",
    "version": 3
   },
   "file_extension": ".py",
   "mimetype": "text/x-python",
   "name": "python",
   "nbconvert_exporter": "python",
   "pygments_lexer": "ipython3",
   "version": "3.11.6"
  }
 },
 "nbformat": 4,
 "nbformat_minor": 2
}
