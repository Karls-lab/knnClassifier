{
 "cells": [
  {
   "cell_type": "code",
   "execution_count": 2,
   "metadata": {},
   "outputs": [
    {
     "name": "stdout",
     "output_type": "stream",
     "text": [
      "   Pregnancies   Glucose  BloodPressure  SkinThickness   Insulin       BMI   \n",
      "0     0.639530  0.847771       0.149543       0.906679 -0.692439  0.203880  \\\n",
      "1    -0.844335 -1.122665      -0.160441       0.530556 -0.692439 -0.683976   \n",
      "2     1.233077  1.942458      -0.263769      -1.287373 -0.692439 -1.102537   \n",
      "3    -0.844335 -0.997558      -0.160441       0.154433  0.123221 -0.493721   \n",
      "4    -1.141108  0.503727      -1.503707       0.906679  0.765337  1.408828   \n",
      "\n",
      "   DiabetesPedigreeFunction       Age  Outcome  \n",
      "0                  0.468187  1.425067        1  \n",
      "1                 -0.364823 -0.190548        0  \n",
      "2                  0.604004 -0.105515        1  \n",
      "3                 -0.920163 -1.040871        0  \n",
      "4                  5.481337 -0.020483        1  \n"
     ]
    }
   ],
   "source": [
    "import pandas as pd\n",
    "import numpy as np\n",
    "import torch\n",
    "import os\n",
    "\n",
    "file_path = os.path.join('data', 'diabetes.csv')\n",
    "df = pd.read_csv(file_path)\n",
    "\n",
    "# Standardize the data\n",
    "for feature in df.columns[:-1]:\n",
    "    mean = df[feature].mean()\n",
    "    std = df[feature].std()\n",
    "    df[feature] = (df[feature] - mean) / std\n",
    "print(df.head())\n",
    "\n",
    "# Save the preprocessed data\n",
    "file_path = file_path.replace('.csv', '_cleaned.csv')\n",
    "df.to_csv(file_path, index=False)"
   ]
  }
 ],
 "metadata": {
  "kernelspec": {
   "display_name": "Python 3",
   "language": "python",
   "name": "python3"
  },
  "language_info": {
   "codemirror_mode": {
    "name": "ipython",
    "version": 3
   },
   "file_extension": ".py",
   "mimetype": "text/x-python",
   "name": "python",
   "nbconvert_exporter": "python",
   "pygments_lexer": "ipython3",
   "version": "3.11.6"
  }
 },
 "nbformat": 4,
 "nbformat_minor": 2
}
