{
 "cells": [
  {
   "cell_type": "code",
   "execution_count": 41,
   "metadata": {},
   "outputs": [],
   "source": [
    "import pandas as pd\n",
    "import numpy as np\n",
    "import mrmr\n",
    "import os"
   ]
  },
  {
   "cell_type": "code",
   "execution_count": 42,
   "metadata": {},
   "outputs": [],
   "source": [
    "\"\"\"\n",
    "Declare the dataframes and the path to the data\n",
    "Please change to normal cleveland if you want to.\n",
    "\"\"\"\n",
    "df = pd.read_csv(os.path.join('data', 'cleveland-challenge.csv'))\n",
    "\n",
    "df['num'] = df['num'].apply(lambda x: 1 if x > 0 else 0)"
   ]
  },
  {
   "cell_type": "code",
   "execution_count": 43,
   "metadata": {},
   "outputs": [],
   "source": [
    "\"\"\"\n",
    "Declare categorical and continuous features\n",
    "\"\"\"\n",
    "categoricalFeatures = ['sex', 'cp', 'fbs', 'restecg', 'exang', 'slope', 'ca', 'thal']\n",
    "continuousFeatures = ['age', 'trestbps', 'chol', 'thalach', 'oldpeak']\n"
   ]
  },
  {
   "cell_type": "code",
   "execution_count": 44,
   "metadata": {},
   "outputs": [],
   "source": [
    "\"\"\"\n",
    "Prepare categorical features\n",
    "\"\"\"\n",
    "from sklearn.preprocessing import LabelEncoder, MinMaxScaler\n",
    "\n",
    "# Remove '?' from the categorical features\n",
    "for feature in categoricalFeatures:\n",
    "    df = df[df[feature] != '?']\n",
    "\n",
    "# Use the label encoder to convert categorical features to numerical\n",
    "label_encoder = LabelEncoder()\n",
    "min_max_scaler = MinMaxScaler()\n",
    "for col in categoricalFeatures:\n",
    "    df[col] = label_encoder.fit_transform(df[col])\n",
    "\n",
    "# Normalize the encoded values to a range of 0 to 1\n",
    "df[categoricalFeatures] = min_max_scaler.fit_transform(df[categoricalFeatures])"
   ]
  },
  {
   "cell_type": "code",
   "execution_count": 45,
   "metadata": {},
   "outputs": [
    {
     "name": "stdout",
     "output_type": "stream",
     "text": [
      "Converting age to numeric\n",
      "Converting trestbps to numeric\n",
      "Converting chol to numeric\n",
      "Converting thalach to numeric\n",
      "Converting oldpeak to numeric\n"
     ]
    }
   ],
   "source": [
    "\"\"\"\n",
    "Clean up Continuous Features\n",
    "\"\"\"\n",
    "\n",
    "# remove rows that are not numeric\n",
    "for feature in continuousFeatures:\n",
    "    print(f\"Converting {feature} to numeric\")\n",
    "    df = df[pd.to_numeric(df[feature], errors='coerce').notna()]\n",
    "\n",
    "# Z-score normalization\n",
    "for feature in continuousFeatures:\n",
    "    mean = df[feature].mean()\n",
    "    std = df[feature].std()\n",
    "    df[feature] = (df[feature] - mean) / std"
   ]
  },
  {
   "cell_type": "code",
   "execution_count": 46,
   "metadata": {},
   "outputs": [],
   "source": [
    "\n",
    "# Convert the data types to float16\n",
    "df[categoricalFeatures] = df[categoricalFeatures].astype('float16')\n",
    "df[continuousFeatures] = df[continuousFeatures].astype('float16')"
   ]
  },
  {
   "cell_type": "code",
   "execution_count": 47,
   "metadata": {},
   "outputs": [
    {
     "name": "stderr",
     "output_type": "stream",
     "text": [
      "100%|██████████| 14/14 [00:04<00:00,  3.14it/s]"
     ]
    },
    {
     "name": "stdout",
     "output_type": "stream",
     "text": [
      "ranked features according to mrmr: ['exang', 'slope', 'cp', 'restecg', 'thal', 'thalach', 'chol', 'sex', 'ca', 'oldpeak', 'fbs', 'age', 'Unnamed: 0', 'trestbps']\n"
     ]
    },
    {
     "name": "stderr",
     "output_type": "stream",
     "text": [
      "\n"
     ]
    }
   ],
   "source": [
    "\"\"\" Now with all features cleaned, we can perform mRMR on the data\"\"\"\n",
    "from mrmr import mrmr_classif\n",
    "\n",
    "allFeatures = df.columns[:-1]\n",
    "selectedFeatures = mrmr_classif(X=df[allFeatures], y=df['num'], K=len(allFeatures))\n",
    "print(f'ranked features according to mrmr: {selectedFeatures}')\n",
    "\n",
    "# Take the top 9 features\n",
    "selectedFeatures = selectedFeatures[:9] + ['num']\n",
    "df = df[selectedFeatures]\n"
   ]
  },
  {
   "cell_type": "code",
   "execution_count": 48,
   "metadata": {},
   "outputs": [
    {
     "name": "stdout",
     "output_type": "stream",
     "text": [
      "<class 'pandas.core.frame.DataFrame'>\n",
      "Index: 38 entries, 0 to 39\n",
      "Data columns (total 10 columns):\n",
      " #   Column   Non-Null Count  Dtype  \n",
      "---  ------   --------------  -----  \n",
      " 0   exang    38 non-null     float16\n",
      " 1   slope    38 non-null     float16\n",
      " 2   cp       38 non-null     float16\n",
      " 3   restecg  38 non-null     float16\n",
      " 4   thal     38 non-null     float16\n",
      " 5   thalach  38 non-null     float16\n",
      " 6   chol     38 non-null     float16\n",
      " 7   sex      38 non-null     float16\n",
      " 8   ca       38 non-null     float16\n",
      " 9   num      38 non-null     int64  \n",
      "dtypes: float16(9), int64(1)\n",
      "memory usage: 1.3 KB\n",
      "None\n",
      "\n",
      "\n",
      " DF HEAD\n",
      "   exang  slope        cp  restecg  thal   thalach      chol  sex        ca   \n",
      "0    1.0    0.5  1.000000      0.0   1.0 -0.175659  1.469727  0.0  0.000000  \\\n",
      "1    1.0    0.5  1.000000      1.0   0.5 -1.396484  0.802734  1.0  0.333252   \n",
      "2    0.0    0.0  0.333252      0.0   0.0  1.330078 -1.059570  0.0  0.666504   \n",
      "3    0.0    0.0  0.000000      0.0   0.0  0.190674 -0.047791  0.0  0.666504   \n",
      "4    1.0    0.5  1.000000      1.0   0.0 -1.234375  1.032227  1.0  0.666504   \n",
      "\n",
      "   num  \n",
      "0    1  \n",
      "1    1  \n",
      "2    0  \n",
      "3    0  \n",
      "4    1  \n"
     ]
    }
   ],
   "source": [
    "\"\"\" Now lets save the data \"\"\"\n",
    "print(df.info())\n",
    "print(f\"\\n\\n DF HEAD\")\n",
    "print(df.head(5))\n",
    "df.to_csv(os.path.join('data', 'cleveland_cleaned.csv'), index=False)\n"
   ]
  }
 ],
 "metadata": {
  "kernelspec": {
   "display_name": "Python 3",
   "language": "python",
   "name": "python3"
  },
  "language_info": {
   "codemirror_mode": {
    "name": "ipython",
    "version": 3
   },
   "file_extension": ".py",
   "mimetype": "text/x-python",
   "name": "python",
   "nbconvert_exporter": "python",
   "pygments_lexer": "ipython3",
   "version": "3.11.6"
  }
 },
 "nbformat": 4,
 "nbformat_minor": 2
}
